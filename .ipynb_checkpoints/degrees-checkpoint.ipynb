{
 "cells": [
  {
   "cell_type": "code",
   "execution_count": 3,
   "metadata": {},
   "outputs": [],
   "source": [
    "import csv\n",
    "import sys\n",
    "\n",
    "# from util import Node, StackFrontier, QueueFrontier"
   ]
  },
  {
   "cell_type": "code",
   "execution_count": 4,
   "metadata": {},
   "outputs": [],
   "source": [
    "# Maps names to a set of corresponding person_ids\n",
    "names = {}\n",
    "\n",
    "# Maps person_ids to a dictionary of: name, birth, movies (a set of movie_ids)\n",
    "people = {}\n",
    "\n",
    "# Maps movie_ids to a dictionary of: title, year, stars (a set of person_ids)\n",
    "movies = {}"
   ]
  },
  {
   "cell_type": "code",
   "execution_count": 79,
   "metadata": {},
   "outputs": [],
   "source": [
    "class Node():\n",
    "    def __init__(self, state, parent, action):\n",
    "        self.state = state\n",
    "        self.parent = parent\n",
    "        self.action = action\n",
    "\n",
    "\n",
    "class StackFrontier():\n",
    "    def __init__(self):\n",
    "        self.frontier = []\n",
    "\n",
    "    def add(self, nodelist):\n",
    "        if type(nodelist)==Node:\n",
    "            self.frontier.append(nodelist)\n",
    "        else:\n",
    "            for node in nodelist:\n",
    "                if not self.contains_state(node.state)\n",
    "                self.add(node)\n",
    "\n",
    "    def contains_state(self, state):\n",
    "        return any(node.state == state for node in self.frontier)\n",
    "    \n",
    "    def get_node_with_state(self, state):\n",
    "        if not self.contains_state(state):\n",
    "            raise Exception(\"Dont have state {}\".format(state))\n",
    "        for node in self.frontier:\n",
    "            if node.state == state:\n",
    "                return node\n",
    "    \n",
    "    def state_list(self):\n",
    "        states = []\n",
    "        for node in self.frontier:\n",
    "            states.append(node.state)\n",
    "        return states\n",
    "            \n",
    "\n",
    "    def empty(self):\n",
    "        return len(self.frontier) == 0\n",
    "    \n",
    "    def length(self):\n",
    "        return len(self.frontier)\n",
    "\n",
    "    def remove(self):\n",
    "        if self.empty():\n",
    "            raise Exception(\"empty frontier\")\n",
    "        else:\n",
    "            node = self.frontier[-1]\n",
    "            self.frontier = self.frontier[:-1]\n",
    "            return node\n",
    "\n",
    "\n",
    "class QueueFrontier(StackFrontier):\n",
    "\n",
    "    def remove(self):\n",
    "        if self.empty():\n",
    "            raise Exception(\"empty frontier\")\n",
    "        else:\n",
    "            node = self.frontier[0]\n",
    "            self.frontier = self.frontier[1:]\n",
    "            return node\n"
   ]
  },
  {
   "cell_type": "code",
   "execution_count": 6,
   "metadata": {},
   "outputs": [],
   "source": [
    "def load_data(directory):\n",
    "    \"\"\"\n",
    "    Load data from CSV files into memory.\n",
    "    \"\"\"\n",
    "    # Load people\n",
    "    with open(f\"{directory}/people.csv\", encoding=\"utf-8\") as f:\n",
    "        reader = csv.DictReader(f)\n",
    "        for row in reader:\n",
    "            people[row[\"id\"]] = {\n",
    "                \"name\": row[\"name\"],\n",
    "                \"birth\": row[\"birth\"],\n",
    "                \"movies\": set()\n",
    "            }\n",
    "            if row[\"name\"].lower() not in names:\n",
    "                names[row[\"name\"].lower()] = {row[\"id\"]}\n",
    "            else:\n",
    "                names[row[\"name\"].lower()].add(row[\"id\"])\n",
    "\n",
    "    # Load movies\n",
    "    with open(f\"{directory}/movies.csv\", encoding=\"utf-8\") as f:\n",
    "        reader = csv.DictReader(f)\n",
    "        for row in reader:\n",
    "            movies[row[\"id\"]] = {\n",
    "                \"title\": row[\"title\"],\n",
    "                \"year\": row[\"year\"],\n",
    "                \"stars\": set()\n",
    "            }\n",
    "\n",
    "    # Load stars\n",
    "    with open(f\"{directory}/stars.csv\", encoding=\"utf-8\") as f:\n",
    "        reader = csv.DictReader(f)\n",
    "        for row in reader:\n",
    "            try:\n",
    "                people[row[\"person_id\"]][\"movies\"].add(row[\"movie_id\"])\n",
    "                movies[row[\"movie_id\"]][\"stars\"].add(row[\"person_id\"])\n",
    "            except KeyError:\n",
    "                pass\n"
   ]
  },
  {
   "cell_type": "code",
   "execution_count": 7,
   "metadata": {},
   "outputs": [],
   "source": [
    "load_data(\"small\")"
   ]
  },
  {
   "cell_type": "code",
   "execution_count": 75,
   "metadata": {},
   "outputs": [],
   "source": [
    "def get_movies(actor_id):\n",
    "    return list(people[actor_id]['movies'])\n",
    "def get_actors(movie_id):\n",
    "    return list(movies[movie_id]['stars'])\n",
    "\n",
    "def expandFrontier():\n",
    "    removedNode = Frontier.remove()\n",
    "    checked.add(removedNode)\n",
    "    removedState = removedNode.state\n",
    "\n",
    "    theirMovies = get_movies(removedState)\n",
    "\n",
    "    newList = []\n",
    "    checkedList = ch.state_list()\n",
    "    \n",
    "    for mov in theirMovies:\n",
    "        actors = get_actors(mov)\n",
    "        actors = [x for x in actors if not x in newList and not x in checkedList ]#don't add actors who are already there or are in checked\n",
    "        newList=list(set(newList+actors))\n",
    "    \n",
    "    \n",
    "    if newList ==[]:\n",
    "        return [None, None]#couldn't expand frontier\n",
    "    else:\n",
    "        newNodeList = [Node(x, removedState, mov) for x in newList]\n",
    "        fr.add(newNodeList)\n",
    "        return [fr,ch]"
   ]
  },
  {
   "cell_type": "code",
   "execution_count": 71,
   "metadata": {},
   "outputs": [
    {
     "data": {
      "text/plain": [
       "['112384', '109830']"
      ]
     },
     "execution_count": 71,
     "metadata": {},
     "output_type": "execute_result"
    }
   ],
   "source": [
    "get_movies('641')"
   ]
  },
  {
   "cell_type": "code",
   "execution_count": 73,
   "metadata": {},
   "outputs": [
    {
     "data": {
      "text/plain": [
       "['200', '102', '158', '641']"
      ]
     },
     "execution_count": 73,
     "metadata": {},
     "output_type": "execute_result"
    }
   ],
   "source": [
    "get_actors('112384')"
   ]
  },
  {
   "cell_type": "code",
   "execution_count": 74,
   "metadata": {},
   "outputs": [
    {
     "data": {
      "text/plain": [
       "['705', '158', '398', '641']"
      ]
     },
     "execution_count": 74,
     "metadata": {},
     "output_type": "execute_result"
    }
   ],
   "source": [
    "get_actors('109830')"
   ]
  },
  {
   "cell_type": "code",
   "execution_count": 104,
   "metadata": {},
   "outputs": [],
   "source": [
    "source = '641'\n",
    "target = '144'\n",
    "stop =False\n",
    "Frontier = StackFrontier()\n",
    "checked = StackFrontier()\n",
    "startNode = Node(source,None,None)\n",
    "Frontier.add(startNode)\n",
    "foundNode = None\n",
    "\n",
    "\n",
    "removedNode = Frontier.remove()\n",
    "checked.add(removedNode)\n",
    "removedState = removedNode.state\n",
    "\n",
    "theirMovies = get_movies(removedState)\n",
    "newList = []\n",
    "checkedList = checked.state_list()\n",
    "\n",
    "for mov in theirMovies:\n",
    "    actors = get_actors(mov)\n",
    "    actors = [x for x in actors if not x in newList and not x in checkedList ]#don't add actors who are already there or are in checked\n",
    "    newList=list(set(newList+actors))\n",
    "\n",
    "if (newList == []):\n",
    "    print(\"Can't expand further\")\n",
    "else:\n",
    "    if target in newNodeList:\n",
    "        print(\"target found!!!\")\n",
    "    newNodeList = [Node(x, removedState, mov) for x in newList]\n",
    "    Frontier.add(newNodeList)\n",
    "\n",
    "\n",
    "\n",
    "\n",
    "\n",
    "\n",
    "# for n in range(100):\n",
    "#     [newfr, newch] = expandFrontier(finis, Frontier,checked)\n",
    "#     if newfr is None:\n",
    "#         print(\"null returned\")\n",
    "#         break\n",
    "#     else:\n",
    "#         Frontier = newfr\n",
    "#         checked = newch\n",
    "#         if Frontier.contains_state(finis):\n",
    "#             foundNode=Frontier.get_node_with_state(finis)\n",
    "#             print(\"Success\")\n",
    "#             break\n",
    "\n",
    "    \n",
    "# print(\"frontier length: {} checked length = {}\".format(Frontier.length(),checked.length()))\n",
    "# if foundNode is not None:\n",
    "#     print(\"actor: {}, movie: {}\".format(foundNode.state, foundNode.action))\n",
    "    \n"
   ]
  },
  {
   "cell_type": "code",
   "execution_count": 106,
   "metadata": {},
   "outputs": [
    {
     "data": {
      "text/plain": [
       "['641']"
      ]
     },
     "execution_count": 106,
     "metadata": {},
     "output_type": "execute_result"
    }
   ],
   "source": [
    "checked.state_list()"
   ]
  },
  {
   "cell_type": "code",
   "execution_count": 101,
   "metadata": {},
   "outputs": [
    {
     "data": {
      "text/plain": [
       "['158', '398', '705', '102', '200']"
      ]
     },
     "execution_count": 101,
     "metadata": {},
     "output_type": "execute_result"
    }
   ],
   "source": [
    "Frontier.state_list()"
   ]
  },
  {
   "cell_type": "code",
   "execution_count": 102,
   "metadata": {},
   "outputs": [
    {
     "data": {
      "text/plain": [
       "['158', '398', '705', '102', '200']"
      ]
     },
     "execution_count": 102,
     "metadata": {},
     "output_type": "execute_result"
    }
   ],
   "source": [
    "newfr.state_list()"
   ]
  },
  {
   "cell_type": "code",
   "execution_count": 10,
   "metadata": {},
   "outputs": [],
   "source": [
    "def get_prev_actor(node):\n",
    "    parentNode = checked.get_node_with_state(node.parent)\n",
    "    if parentNode.parent is not None:\n",
    "        return [parentNode,(node.action, node.state)]\n",
    "    else:\n",
    "        return[parentNode, (None,None)]"
   ]
  },
  {
   "cell_type": "code",
   "execution_count": 50,
   "metadata": {},
   "outputs": [],
   "source": [
    "def get_path(node):\n",
    "    path = []\n",
    "    u = node\n",
    "    if u.parent== None:\n",
    "        return []\n",
    "    for n in range(10):\n",
    "        print(u.state)\n",
    "        [v,s]=get_prev_actor(u)\n",
    "        if v.parent == None:\n",
    "            print(path)\n",
    "            return path\n",
    "        else:\n",
    "            path.append(s)\n",
    "            u=v\n",
    "    print(path)\n",
    "    return path\n",
    "        "
   ]
  },
  {
   "cell_type": "code",
   "execution_count": 45,
   "metadata": {},
   "outputs": [],
   "source": [
    "path = []\n",
    "u=foundNode\n",
    "[v,s]=get_prev_actor(u)\n",
    "path.append(s)"
   ]
  },
  {
   "cell_type": "code",
   "execution_count": 38,
   "metadata": {},
   "outputs": [],
   "source": [
    "[v,s]=get_prev_actor(foundNode)"
   ]
  },
  {
   "cell_type": "code",
   "execution_count": 51,
   "metadata": {},
   "outputs": [
    {
     "name": "stdout",
     "output_type": "stream",
     "text": [
      "144\n",
      "705\n",
      "158\n",
      "398\n",
      "[('93779', '144'), ('109830', '705'), ('109830', '158')]\n"
     ]
    }
   ],
   "source": [
    "p = get_path(foundNode)"
   ]
  },
  {
   "cell_type": "code",
   "execution_count": 56,
   "metadata": {},
   "outputs": [
    {
     "name": "stdout",
     "output_type": "stream",
     "text": [
      "[('109830', '158'), ('109830', '705'), ('93779', '144')]\n"
     ]
    }
   ],
   "source": []
  },
  {
   "cell_type": "code",
   "execution_count": 61,
   "metadata": {},
   "outputs": [
    {
     "data": {
      "text/plain": [
       "{'title': 'Forrest Gump',\n",
       " 'year': '1994',\n",
       " 'stars': {'158', '398', '641', '705'}}"
      ]
     },
     "execution_count": 61,
     "metadata": {},
     "output_type": "execute_result"
    }
   ],
   "source": [
    "movies['109830']"
   ]
  },
  {
   "cell_type": "code",
   "execution_count": null,
   "metadata": {},
   "outputs": [],
   "source": [
    "v = None"
   ]
  },
  {
   "cell_type": "code",
   "execution_count": null,
   "metadata": {},
   "outputs": [],
   "source": [
    "v is not None"
   ]
  },
  {
   "cell_type": "code",
   "execution_count": null,
   "metadata": {},
   "outputs": [],
   "source": [
    "people"
   ]
  },
  {
   "cell_type": "code",
   "execution_count": null,
   "metadata": {},
   "outputs": [],
   "source": [
    "movies"
   ]
  },
  {
   "cell_type": "code",
   "execution_count": null,
   "metadata": {},
   "outputs": [],
   "source": [
    "pp=[(1,2),(3,4),(5,7)]"
   ]
  },
  {
   "cell_type": "code",
   "execution_count": 13,
   "metadata": {},
   "outputs": [],
   "source": [
    "a=(None,None)"
   ]
  },
  {
   "cell_type": "code",
   "execution_count": 14,
   "metadata": {},
   "outputs": [
    {
     "data": {
      "text/plain": [
       "True"
      ]
     },
     "execution_count": 14,
     "metadata": {},
     "output_type": "execute_result"
    }
   ],
   "source": [
    "a==(None,None)"
   ]
  },
  {
   "cell_type": "code",
   "execution_count": 21,
   "metadata": {},
   "outputs": [
    {
     "data": {
      "text/plain": [
       "{'102': {'name': 'Kevin Bacon',\n",
       "  'birth': '1958',\n",
       "  'movies': {'104257', '112384'}},\n",
       " '129': {'name': 'Tom Cruise', 'birth': '1962', 'movies': {'104257', '95953'}},\n",
       " '144': {'name': 'Cary Elwes', 'birth': '1962', 'movies': {'93779'}},\n",
       " '158': {'name': 'Tom Hanks', 'birth': '1956', 'movies': {'109830', '112384'}},\n",
       " '1597': {'name': 'Mandy Patinkin', 'birth': '1952', 'movies': {'93779'}},\n",
       " '163': {'name': 'Dustin Hoffman', 'birth': '1937', 'movies': {'95953'}},\n",
       " '1697': {'name': 'Chris Sarandon', 'birth': '1942', 'movies': {'93779'}},\n",
       " '193': {'name': 'Demi Moore', 'birth': '1962', 'movies': {'104257'}},\n",
       " '197': {'name': 'Jack Nicholson', 'birth': '1937', 'movies': {'104257'}},\n",
       " '200': {'name': 'Bill Paxton', 'birth': '1955', 'movies': {'112384'}},\n",
       " '398': {'name': 'Sally Field', 'birth': '1946', 'movies': {'109830'}},\n",
       " '420': {'name': 'Valeria Golino', 'birth': '1965', 'movies': {'95953'}},\n",
       " '596520': {'name': 'Gerald R. Molen', 'birth': '1935', 'movies': {'95953'}},\n",
       " '641': {'name': 'Gary Sinise',\n",
       "  'birth': '1955',\n",
       "  'movies': {'109830', '112384'}},\n",
       " '705': {'name': 'Robin Wright',\n",
       "  'birth': '1966',\n",
       "  'movies': {'109830', '93779'}},\n",
       " '914612': {'name': 'Emma Watson', 'birth': '1990', 'movies': set()}}"
      ]
     },
     "execution_count": 21,
     "metadata": {},
     "output_type": "execute_result"
    }
   ],
   "source": [
    "people"
   ]
  },
  {
   "cell_type": "code",
   "execution_count": 66,
   "metadata": {},
   "outputs": [],
   "source": [
    "pp = [1,2,3,4,5,6,7]\n",
    "qq = [x for x in pp if not x<3 and not x%2==0]"
   ]
  },
  {
   "cell_type": "code",
   "execution_count": 67,
   "metadata": {},
   "outputs": [
    {
     "data": {
      "text/plain": [
       "[3, 5, 7]"
      ]
     },
     "execution_count": 67,
     "metadata": {},
     "output_type": "execute_result"
    }
   ],
   "source": [
    "qq"
   ]
  },
  {
   "cell_type": "code",
   "execution_count": null,
   "metadata": {},
   "outputs": [],
   "source": []
  }
 ],
 "metadata": {
  "kernelspec": {
   "display_name": "Python 3",
   "language": "python",
   "name": "python3"
  },
  "language_info": {
   "codemirror_mode": {
    "name": "ipython",
    "version": 3
   },
   "file_extension": ".py",
   "mimetype": "text/x-python",
   "name": "python",
   "nbconvert_exporter": "python",
   "pygments_lexer": "ipython3",
   "version": "3.8.3"
  }
 },
 "nbformat": 4,
 "nbformat_minor": 4
}
