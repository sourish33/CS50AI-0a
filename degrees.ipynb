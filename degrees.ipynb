{
 "cells": [
  {
   "cell_type": "code",
   "execution_count": 1,
   "metadata": {},
   "outputs": [],
   "source": [
    "import csv\n",
    "import sys\n",
    "import random\n",
    "\n",
    "# from util import Node, StackFrontier, QueueFrontier"
   ]
  },
  {
   "cell_type": "code",
   "execution_count": 2,
   "metadata": {},
   "outputs": [],
   "source": [
    "# Maps names to a set of corresponding person_ids\n",
    "names = {}\n",
    "\n",
    "# Maps person_ids to a dictionary of: name, birth, movies (a set of movie_ids)\n",
    "people = {}\n",
    "\n",
    "# Maps movie_ids to a dictionary of: title, year, stars (a set of person_ids)\n",
    "movies = {}"
   ]
  },
  {
   "cell_type": "code",
   "execution_count": 3,
   "metadata": {},
   "outputs": [],
   "source": [
    "class Node():\n",
    "    def __init__(self, state, parent, action):\n",
    "        self.state = state\n",
    "        self.parent = parent\n",
    "        self.action = action\n",
    "\n",
    "\n",
    "class StackFrontier():\n",
    "    def __init__(self):\n",
    "        self.frontier = []\n",
    "\n",
    "    def add(self, nodelist):\n",
    "        if type(nodelist)==Node:\n",
    "            self.frontier.append(nodelist)\n",
    "        else:\n",
    "            for node in nodelist:\n",
    "                if not self.contains_state(node.state):\n",
    "                    self.add(node)\n",
    "\n",
    "    def contains_state(self, state):\n",
    "        return any(node.state == state for node in self.frontier)\n",
    "    \n",
    "    def get_node_with_state(self, state):\n",
    "        if not self.contains_state(state):\n",
    "            raise Exception(\"Dont have state {}\".format(state))\n",
    "        for node in self.frontier:\n",
    "            if node.state == state:\n",
    "                return node\n",
    "    \n",
    "    def state_list(self):\n",
    "        states = []\n",
    "        for node in self.frontier:\n",
    "            states.append(node.state)\n",
    "        return states\n",
    "            \n",
    "\n",
    "    def empty(self):\n",
    "        return len(self.frontier) == 0\n",
    "    \n",
    "    def length(self):\n",
    "        return len(self.frontier)\n",
    "\n",
    "    def remove(self):\n",
    "        if self.empty():\n",
    "            raise Exception(\"empty frontier\")\n",
    "        else:\n",
    "            node = self.frontier[-1]\n",
    "            self.frontier = self.frontier[:-1]\n",
    "            return node\n",
    "\n",
    "\n",
    "class QueueFrontier(StackFrontier):\n",
    "\n",
    "    def remove(self):\n",
    "        if self.empty():\n",
    "            raise Exception(\"empty frontier\")\n",
    "        else:\n",
    "            node = self.frontier[0]\n",
    "            self.frontier = self.frontier[1:]\n",
    "            return node\n"
   ]
  },
  {
   "cell_type": "code",
   "execution_count": 4,
   "metadata": {},
   "outputs": [],
   "source": [
    "def load_data(directory):\n",
    "    \"\"\"\n",
    "    Load data from CSV files into memory.\n",
    "    \"\"\"\n",
    "    # Load people\n",
    "    with open(f\"{directory}/people.csv\", encoding=\"utf-8\") as f:\n",
    "        reader = csv.DictReader(f)\n",
    "        for row in reader:\n",
    "            people[row[\"id\"]] = {\n",
    "                \"name\": row[\"name\"],\n",
    "                \"birth\": row[\"birth\"],\n",
    "                \"movies\": set()\n",
    "            }\n",
    "            if row[\"name\"].lower() not in names:\n",
    "                names[row[\"name\"].lower()] = {row[\"id\"]}\n",
    "            else:\n",
    "                names[row[\"name\"].lower()].add(row[\"id\"])\n",
    "\n",
    "    # Load movies\n",
    "    with open(f\"{directory}/movies.csv\", encoding=\"utf-8\") as f:\n",
    "        reader = csv.DictReader(f)\n",
    "        for row in reader:\n",
    "            movies[row[\"id\"]] = {\n",
    "                \"title\": row[\"title\"],\n",
    "                \"year\": row[\"year\"],\n",
    "                \"stars\": set()\n",
    "            }\n",
    "\n",
    "    # Load stars\n",
    "    with open(f\"{directory}/stars.csv\", encoding=\"utf-8\") as f:\n",
    "        reader = csv.DictReader(f)\n",
    "        for row in reader:\n",
    "            try:\n",
    "                people[row[\"person_id\"]][\"movies\"].add(row[\"movie_id\"])\n",
    "                movies[row[\"movie_id\"]][\"stars\"].add(row[\"person_id\"])\n",
    "            except KeyError:\n",
    "                pass\n",
    "            \n",
    "def get_movies(actor):\n",
    "    return list(set(people[actor]['movies']))\n",
    "\n",
    "def get_actors(mov):\n",
    "    return list(set(movies[mov]['stars']))\n",
    "\n",
    "def get_path(node, startNode, checked):\n",
    "    \n",
    "    path = []\n",
    "    while(True):\n",
    "        if node.parent == startNode.state:\n",
    "#             print(\"Done\")\n",
    "            pathlet = (node.action, node.state)\n",
    "#             print(pathlet)\n",
    "            path.append((node.action, node.state))\n",
    "            break\n",
    "        else:\n",
    "            pathlet = (node.action, node.state)\n",
    "#             print(pathlet)\n",
    "            path.append((node.action, node.state))\n",
    "            node = checked.get_node_with_state(node.parent)\n",
    "\n",
    "    path.reverse()\n",
    "    return path\n",
    "            \n",
    "        \n"
   ]
  },
  {
   "cell_type": "code",
   "execution_count": 14,
   "metadata": {},
   "outputs": [],
   "source": [
    "load_data(\"large\")"
   ]
  },
  {
   "cell_type": "code",
   "execution_count": 6,
   "metadata": {},
   "outputs": [],
   "source": [
    "def shortest_path(source, target, searchtype=1):\n",
    "    if (source == target):\n",
    "        return []\n",
    "    if not source in people.keys() or not target in people.keys():\n",
    "        print(\"source or target not in database\")\n",
    "        return []\n",
    "    if searchtype == 1:\n",
    "        Frontier = QueueFrontier()\n",
    "    else:\n",
    "        Frontier = StackFrontier()\n",
    "    checked = StackFrontier()\n",
    "    startNode = Node(source,None,None)\n",
    "    Frontier.add(startNode)\n",
    "    foundNode = None\n",
    "    path = []\n",
    "\n",
    "    n=0\n",
    "    while(True):\n",
    "        removedNode = Frontier.remove()\n",
    "        checked.add(removedNode)\n",
    "        removedState = removedNode.state\n",
    "        if (n%500==0):\n",
    "            print(\"Iteration {}: frontier size: {} checked size {}\".format(n, Frontier.length(), checked.length()))\n",
    "\n",
    "        theirMovies = get_movies(removedState)\n",
    "        newNodeList = []\n",
    "        checkedList = checked.state_list()\n",
    "        currentList = Frontier.state_list()\n",
    "        current_actors = Frontier.state_list()\n",
    "\n",
    "        for mov in theirMovies:\n",
    "            actors = get_actors(mov)\n",
    "            actors = [x for x in actors if not x in currentList and not x in checkedList]\n",
    "            if target in actors:\n",
    "                print(\"Success!!! after {} iterations\".format(n))\n",
    "                foundNode = Node(target,removedState,mov)\n",
    "                path = get_path(foundNode,startNode,checked)\n",
    "                return path\n",
    "            else:\n",
    "                NodeList = [Node(x, removedState, mov) for x in actors]\n",
    "                newNodeList+=NodeList\n",
    "        Frontier.add(newNodeList)\n",
    "        n+=1\n",
    "        if Frontier.length()<1:\n",
    "            print(\"search failed after {} iterations\".format(n))\n",
    "            break\n",
    "\n",
    "    return path\n"
   ]
  },
  {
   "cell_type": "code",
   "execution_count": 15,
   "metadata": {},
   "outputs": [
    {
     "name": "stdout",
     "output_type": "stream",
     "text": [
      "Shortest path between 137 and 402\n",
      "Iteration 0: frontier size: 0 checked size 1\n",
      "Success!!! after 416 iterations\n",
      "[('108588', '874'), ('91875', '345'), ('98635', '402')]\n"
     ]
    }
   ],
   "source": [
    "# p1 = random.choice(list(people.keys()))\n",
    "# p2 = random.choice(list(people.keys()))\n",
    "p1=\"137\"\n",
    "p2=\"402\"\n",
    "print('Shortest path between {} and {}'.format(p1,p2))\n",
    "print(shortest_path(p1,p2))"
   ]
  },
  {
   "cell_type": "code",
   "execution_count": 10,
   "metadata": {},
   "outputs": [
    {
     "data": {
      "text/plain": [
       "False"
      ]
     },
     "execution_count": 10,
     "metadata": {},
     "output_type": "execute_result"
    }
   ],
   "source": [
    "'26' in people.keys()"
   ]
  },
  {
   "cell_type": "code",
   "execution_count": null,
   "metadata": {},
   "outputs": [],
   "source": [
    "get_movies('4')"
   ]
  },
  {
   "cell_type": "code",
   "execution_count": null,
   "metadata": {},
   "outputs": [],
   "source": [
    "len(list(people.keys()))"
   ]
  },
  {
   "cell_type": "code",
   "execution_count": null,
   "metadata": {},
   "outputs": [],
   "source": [
    "source = '200'\n",
    "target = '144'\n",
    "Frontier = QueueFrontier()\n",
    "# Frontier = StackFrontier()\n",
    "checked = StackFrontier()\n",
    "startNode = Node(source,None,None)\n",
    "Frontier.add(startNode)\n",
    "foundNode = None\n",
    "path = []\n",
    "\n",
    "n=0\n",
    "while(True):\n",
    "    removedNode = Frontier.remove()\n",
    "    checked.add(removedNode)\n",
    "    removedState = removedNode.state\n",
    "    print(\"Iteration {}: Examining actor {}\".format(n, removedState))\n",
    "\n",
    "    theirMovies = get_movies(removedState)\n",
    "    newNodeList = []\n",
    "    checkedList = checked.state_list()\n",
    "    currentList = Frontier.state_list()\n",
    "    current_actors = Frontier.state_list()\n",
    "\n",
    "    for mov in theirMovies:\n",
    "        actors = get_actors(mov)\n",
    "        actors = [x for x in actors if not x in currentList and not x in checkedList]\n",
    "        NodeList = [Node(x, removedState, mov) for x in actors]\n",
    "        newNodeList+=NodeList\n",
    "    Frontier.add(newNodeList)\n",
    "    n+=1\n",
    "    if Frontier.contains_state(target):\n",
    "        print(\"success!!!\")\n",
    "        foundNode = Frontier.get_node_with_state(target)\n",
    "        path = get_path(foundNode,startNode)\n",
    "        break\n",
    "    if Frontier.length()<1:\n",
    "        print(\"search failed\")\n",
    "        break\n",
    "\n",
    "print(path)"
   ]
  },
  {
   "cell_type": "code",
   "execution_count": null,
   "metadata": {},
   "outputs": [],
   "source": [
    "print(path)\n",
    "        "
   ]
  },
  {
   "cell_type": "code",
   "execution_count": null,
   "metadata": {},
   "outputs": [],
   "source": [
    "u=get_path(foundNode,startNode)"
   ]
  },
  {
   "cell_type": "code",
   "execution_count": null,
   "metadata": {},
   "outputs": [],
   "source": [
    "people"
   ]
  },
  {
   "cell_type": "code",
   "execution_count": null,
   "metadata": {},
   "outputs": [],
   "source": [
    "get_actors('112384')"
   ]
  },
  {
   "cell_type": "code",
   "execution_count": null,
   "metadata": {},
   "outputs": [],
   "source": [
    "get_actors('109830')"
   ]
  },
  {
   "cell_type": "code",
   "execution_count": null,
   "metadata": {},
   "outputs": [],
   "source": [
    "get_actors('93779')"
   ]
  },
  {
   "cell_type": "code",
   "execution_count": null,
   "metadata": {},
   "outputs": [],
   "source": [
    "def get_path(node):\n",
    "    path = []\n",
    "    u = node\n",
    "    if u.parent== None:\n",
    "        return []\n",
    "    for n in range(10):\n",
    "        print(u.state)\n",
    "        [v,s]=get_prev_actor(u)\n",
    "        if v.parent == None:\n",
    "            print(path)\n",
    "            return path\n",
    "        else:\n",
    "            path.append(s)\n",
    "            u=v\n",
    "    print(path)\n",
    "    return path\n",
    "        "
   ]
  },
  {
   "cell_type": "code",
   "execution_count": null,
   "metadata": {},
   "outputs": [],
   "source": [
    "path = []\n",
    "u=foundNode\n",
    "[v,s]=get_prev_actor(u)\n",
    "path.append(s)"
   ]
  },
  {
   "cell_type": "code",
   "execution_count": null,
   "metadata": {},
   "outputs": [],
   "source": [
    "[v,s]=get_prev_actor(foundNode)"
   ]
  },
  {
   "cell_type": "code",
   "execution_count": null,
   "metadata": {},
   "outputs": [],
   "source": [
    "p = get_path(foundNode)"
   ]
  },
  {
   "cell_type": "code",
   "execution_count": null,
   "metadata": {},
   "outputs": [],
   "source": []
  },
  {
   "cell_type": "code",
   "execution_count": null,
   "metadata": {},
   "outputs": [],
   "source": [
    "movies['109830']"
   ]
  },
  {
   "cell_type": "code",
   "execution_count": null,
   "metadata": {},
   "outputs": [],
   "source": [
    "v = None"
   ]
  },
  {
   "cell_type": "code",
   "execution_count": null,
   "metadata": {},
   "outputs": [],
   "source": [
    "v is not None"
   ]
  },
  {
   "cell_type": "code",
   "execution_count": null,
   "metadata": {},
   "outputs": [],
   "source": [
    "people"
   ]
  },
  {
   "cell_type": "code",
   "execution_count": null,
   "metadata": {},
   "outputs": [],
   "source": [
    "movies"
   ]
  },
  {
   "cell_type": "code",
   "execution_count": null,
   "metadata": {},
   "outputs": [],
   "source": [
    "pp=[(1,2),(3,4),(5,7)]"
   ]
  },
  {
   "cell_type": "code",
   "execution_count": null,
   "metadata": {},
   "outputs": [],
   "source": [
    "a=(None,None)"
   ]
  },
  {
   "cell_type": "code",
   "execution_count": null,
   "metadata": {},
   "outputs": [],
   "source": [
    "a==(None,None)"
   ]
  },
  {
   "cell_type": "code",
   "execution_count": null,
   "metadata": {},
   "outputs": [],
   "source": [
    "people"
   ]
  },
  {
   "cell_type": "code",
   "execution_count": null,
   "metadata": {},
   "outputs": [],
   "source": [
    "pp = [1,2,3,4,5,6,7]\n",
    "qq = [x for x in pp if not x<3 and not x%2==0]"
   ]
  },
  {
   "cell_type": "code",
   "execution_count": null,
   "metadata": {},
   "outputs": [],
   "source": [
    "get_movies('129')"
   ]
  },
  {
   "cell_type": "code",
   "execution_count": null,
   "metadata": {},
   "outputs": [],
   "source": [
    "get_actors('95953')"
   ]
  },
  {
   "cell_type": "code",
   "execution_count": null,
   "metadata": {},
   "outputs": [],
   "source": [
    "get_actors('104257')"
   ]
  },
  {
   "cell_type": "code",
   "execution_count": null,
   "metadata": {},
   "outputs": [],
   "source": [
    "get_actors('104257')"
   ]
  },
  {
   "cell_type": "code",
   "execution_count": null,
   "metadata": {},
   "outputs": [],
   "source": [
    "movies"
   ]
  },
  {
   "cell_type": "code",
   "execution_count": null,
   "metadata": {},
   "outputs": [],
   "source": [
    "movies['104257']['stars']"
   ]
  },
  {
   "cell_type": "code",
   "execution_count": null,
   "metadata": {},
   "outputs": [],
   "source": []
  }
 ],
 "metadata": {
  "kernelspec": {
   "display_name": "Python 3",
   "language": "python",
   "name": "python3"
  },
  "language_info": {
   "codemirror_mode": {
    "name": "ipython",
    "version": 3
   },
   "file_extension": ".py",
   "mimetype": "text/x-python",
   "name": "python",
   "nbconvert_exporter": "python",
   "pygments_lexer": "ipython3",
   "version": "3.8.3"
  }
 },
 "nbformat": 4,
 "nbformat_minor": 4
}
